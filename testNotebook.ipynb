{
 "cells": [
  {
   "cell_type": "code",
   "execution_count": null,
   "metadata": {},
   "outputs": [],
   "source": [
    "from codes.CategoricalEncoder import CategoricalEncoder\n",
    "from codes.FeatureEngineering import FeatureEngineering\n",
    "from codes.MissingValueHandler import MissingValueHandler\n",
    "from codes.OutlierHandler import OutlierHandler\n",
    "from codes.Scaler import Scaler\n",
    "from codes.TextProcessor import TextProcessor\n",
    "from codes.DataConvertor import DataConvertor\n",
    "from IPython.display import display\n",
    "import pandas as pd"
   ]
  },
  {
   "cell_type": "code",
   "execution_count": null,
   "metadata": {},
   "outputs": [],
   "source": [
    "# File path to the dataset ## All displays are commented.. Uncomment the result you want \n",
    "file_path = 'data/datFile.csv'\n"
   ]
  },
  {
   "cell_type": "code",
   "execution_count": null,
   "metadata": {},
   "outputs": [],
   "source": [
    "#Our Classes Management\n",
    "\n",
    "encoder = CategoricalEncoder(file_path)\n",
    "fe = FeatureEngineering(\"data/datFile.csv\")\n",
    "mv_handler = MissingValueHandler(file_path)\n",
    "oh = OutlierHandler(file_path)\n",
    "scaler = Scaler(file_path)\n",
    "processor = TextProcessor(file_path)\n",
    "conv = DataConvertor(\"data/datFile.csv\")"
   ]
  },
  {
   "cell_type": "code",
   "execution_count": null,
   "metadata": {},
   "outputs": [],
   "source": [
    "# Feature Engineering part - AHMED (uncomment display to test)\n",
    "\n",
    "me = fe.date_into_columns()\n",
    "fe.awards_status_generator()\n",
    "fe.time_since_release()\n",
    "\n",
    "# Get the processed DataFrame\n",
    "processed_data = fe.get_data()\n",
    "\n",
    "# display(processed_data)\n"
   ]
  },
  {
   "cell_type": "code",
   "execution_count": null,
   "metadata": {},
   "outputs": [],
   "source": [
    "# MissingValueHandler - ASMA (Testing in the bottom)\n",
    "missing_values_count = mv_handler.check_missing_values()\n",
    "filled_with_mean = mv_handler.fill_missing_with_mean()\n",
    "filled_with_median = mv_handler.fill_missing_with_median()\n",
    "filled_with_constant = mv_handler.fill_missing_with_constant()"
   ]
  },
  {
   "cell_type": "code",
   "execution_count": null,
   "metadata": {},
   "outputs": [],
   "source": [
    "# OutlierHandler - ASMA (testing in the bottom)\n",
    "identified_outliers = oh.identify_outliers()\n",
    "corrected_outliers = oh.correct_outliers()"
   ]
  },
  {
   "cell_type": "code",
   "execution_count": null,
   "metadata": {},
   "outputs": [],
   "source": [
    "# Scaler - ASMA (testing in the bottom)\n",
    "standardized_data = scaler.standardize_data()\n",
    "normalized_data = scaler.normalize_data()\n",
    "\n",
    "\n"
   ]
  },
  {
   "cell_type": "code",
   "execution_count": null,
   "metadata": {},
   "outputs": [],
   "source": [
    "# DATA ENCODING - AMAL  (uncomment display to test )\n",
    "encoder = CategoricalEncoder('data/datFile.csv')\n",
    "\n",
    "# Apply methods to process the data\n",
    "encoder.encode_categorical()\n",
    "\n",
    "encoder.process_dates()\n",
    "\n",
    "# Get the processed DataFrame\n",
    "processed_data = encoder.get_data()\n",
    "\n",
    "# Display the processed DataFrame\n",
    "\n",
    "#display(processed_data)\n",
    "\n"
   ]
  },
  {
   "cell_type": "code",
   "execution_count": null,
   "metadata": {},
   "outputs": [],
   "source": [
    "# TextProcessor - AHMAD AL ALI (testing is in the bottom of the notebook)\n",
    "data_without_stopwords = processor.remove_stopwords('Summary')\n",
    "data_lowercase = processor.convert_to_lowercase('Summary')\n",
    "data_no_punctuation = processor.remove_punctuation('Summary')"
   ]
  },
  {
   "cell_type": "code",
   "execution_count": null,
   "metadata": {},
   "outputs": [],
   "source": [
    "# MissingValueHandler - ASMA  (testing above code - uncomment display to test now)\n",
    "print(\"Missing Values Count:\")\n",
    "print(missing_values_count)\n",
    "print(\"Filled with Mean:\")\n",
    "#display(filled_with_mean.head())\n",
    "print(\"Filled with Median:\")\n",
    "#display(filled_with_median.head())\n",
    "print(\"Filled with Constant:\")\n",
    "#display(filled_with_constant.head())"
   ]
  },
  {
   "cell_type": "code",
   "execution_count": null,
   "metadata": {},
   "outputs": [],
   "source": [
    "# OutlierHandler - ASMA (testing above code - uncomment display to test now)\n",
    "print(\"Identified Outliers:\")\n",
    "#display(identified_outliers.head())\n",
    "print(\"Corrected Outliers:\")\n",
    "#display(corrected_outliers.head())\n"
   ]
  },
  {
   "cell_type": "code",
   "execution_count": null,
   "metadata": {},
   "outputs": [],
   "source": [
    "# Scaler - ASMA (testing above code- uncomment display to test now) \n",
    "print(\"Standardized Data:\")\n",
    "#display(standardized_data.head())\n",
    "print(\"Normalized Data:\")\n",
    "#display(normalized_data.head())"
   ]
  },
  {
   "cell_type": "code",
   "execution_count": null,
   "metadata": {},
   "outputs": [],
   "source": [
    "# TextProcessor - AHMAD (testing above code - uncomment display to test)\n",
    "print(\"Data without Stopwords:\")\n",
    "#display(data_without_stopwords)\n",
    "print(\"Data with Lowercase Text:\")\n",
    "#display(data_lowercase)\n",
    "print(\"Data with Removed Punctuation:\")\n",
    "#display(data_no_punctuation)"
   ]
  },
  {
   "cell_type": "code",
   "execution_count": null,
   "metadata": {},
   "outputs": [],
   "source": [
    "# Data Converting - AMAL (uncomment display to test)\n",
    "conv.convert_movie_id_to_ascii()\n",
    "processed_data = conv.get_data()\n",
    "#display(processed_data)"
   ]
  }
 ],
 "metadata": {
  "kernelspec": {
   "display_name": "base",
   "language": "python",
   "name": "python3"
  },
  "language_info": {
   "codemirror_mode": {
    "name": "ipython",
    "version": 3
   },
   "file_extension": ".py",
   "mimetype": "text/x-python",
   "name": "python",
   "nbconvert_exporter": "python",
   "pygments_lexer": "ipython3",
   "version": "3.11.7"
  }
 },
 "nbformat": 4,
 "nbformat_minor": 2
}
